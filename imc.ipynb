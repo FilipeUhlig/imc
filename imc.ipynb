{
 "cells": [
  {
   "cell_type": "markdown",
   "id": "16c374f7",
   "metadata": {},
   "source": [
    "###  leia o peso e a altura de uma pessoa, calcule seu´ındice de massa corporal (IMC), classifique essa pessoa de acordo com a tabela abaixo e escreva na tela a condi¸c˜ao da pessoa:"
   ]
  },
  {
   "cell_type": "code",
   "execution_count": 15,
   "id": "af127c2c",
   "metadata": {},
   "outputs": [],
   "source": [
    "h = 0\n",
    "m = 0"
   ]
  },
  {
   "cell_type": "code",
   "execution_count": 16,
   "id": "c4760d5f",
   "metadata": {},
   "outputs": [
    {
     "name": "stdout",
     "output_type": "stream",
     "text": [
      "Qual sua altura? 1.97\n",
      "Qual seu peso? 67\n"
     ]
    }
   ],
   "source": [
    "h = float(input(\"Qual sua altura? \"))\n",
    "m = float(input(\"Qual seu peso? \"))"
   ]
  },
  {
   "cell_type": "code",
   "execution_count": 17,
   "id": "e1c583b3",
   "metadata": {},
   "outputs": [],
   "source": [
    "imc = (m/(h**2))"
   ]
  },
  {
   "cell_type": "code",
   "execution_count": 18,
   "id": "526c277b",
   "metadata": {},
   "outputs": [
    {
     "name": "stdout",
     "output_type": "stream",
     "text": [
      "O seu IMC é de 17.264036692519777, e você está excessivamente magro.\n"
     ]
    }
   ],
   "source": [
    "if imc <= 18.5:\n",
    "    print(f\"O seu IMC é de {imc}, e você está excessivamente magro.\")\n",
    "\n",
    "elif 18.5 < imc <= 25:\n",
    "    print(f\"O seu IMC é de {imc}, e você está em um peso normal.\")\n",
    "\n",
    "elif 25 < imc <= 30:\n",
    "    print(f\"O seu IMC é de {imc}, e você está com sobrepeso.\")\n",
    "\n",
    "else:\n",
    "    print(f\"O seu IMC é de {imc}, e você está obeso.\")"
   ]
  },
  {
   "cell_type": "code",
   "execution_count": null,
   "id": "463c1309",
   "metadata": {},
   "outputs": [],
   "source": []
  }
 ],
 "metadata": {
  "kernelspec": {
   "display_name": "Python 3 (ipykernel)",
   "language": "python",
   "name": "python3"
  },
  "language_info": {
   "codemirror_mode": {
    "name": "ipython",
    "version": 3
   },
   "file_extension": ".py",
   "mimetype": "text/x-python",
   "name": "python",
   "nbconvert_exporter": "python",
   "pygments_lexer": "ipython3",
   "version": "3.10.9"
  }
 },
 "nbformat": 4,
 "nbformat_minor": 5
}
